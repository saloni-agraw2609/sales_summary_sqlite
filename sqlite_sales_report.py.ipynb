{
 "cells": [
  {
   "cell_type": "code",
   "execution_count": 1,
   "id": "25db4776",
   "metadata": {},
   "outputs": [],
   "source": [
    "# Import necessary libraries\n",
    "import sqlite3\n",
    "import pandas as pd\n",
    "import matplotlib.pyplot as plt"
   ]
  },
  {
   "cell_type": "code",
   "execution_count": 2,
   "id": "846c3cc7",
   "metadata": {},
   "outputs": [],
   "source": [
    "# Create the SQLite database or this will connect to the database if already exists\n",
    "conn = sqlite3.connect(\"Sales_data.db\")\n",
    "cursor = conn.cursor()"
   ]
  },
  {
   "cell_type": "code",
   "execution_count": 3,
   "id": "b8a681fc",
   "metadata": {},
   "outputs": [
    {
     "data": {
      "text/plain": [
       "<sqlite3.Cursor at 0x2430dbd3bc0>"
      ]
     },
     "execution_count": 3,
     "metadata": {},
     "output_type": "execute_result"
    }
   ],
   "source": [
    "# Create the sales table\n",
    "cursor.execute(\"\"\"\n",
    "create table if not exists sales (\n",
    "id integer primary key autoincrement,\n",
    "product text,\n",
    "quantity integer,\n",
    "price real\n",
    ")\n",
    "\"\"\")"
   ]
  },
  {
   "cell_type": "code",
   "execution_count": 4,
   "id": "68fd1f1f",
   "metadata": {},
   "outputs": [],
   "source": [
    "# Insert sample sales data\n",
    "sample_data = [\n",
    "    (\"Apples\", 10, 2.5),\n",
    "    (\"Bananas\", 5, 1.0),\n",
    "    (\"Oranges\", 8, 1.8),\n",
    "    (\"Apples\", 7, 2.5),\n",
    "    (\"Bananas\", 10, 1.0),\n",
    "    (\"Oranges\", 4, 1.8)\n",
    "]\n",
    "cursor.executemany(\"Insert into sales (product, quantity, price) values (?, ?, ?)\", sample_data)\n",
    "conn.commit()"
   ]
  },
  {
   "cell_type": "code",
   "execution_count": 5,
   "id": "0d8bd3f7",
   "metadata": {},
   "outputs": [],
   "source": [
    "# Query to get total quantity and total revenue per product\n",
    "query = \"\"\"\n",
    "select product, sum(quantity) as total_quantity, sum(price) as revenue\n",
    "from sales\n",
    "group by product\n",
    "\"\"\""
   ]
  },
  {
   "cell_type": "code",
   "execution_count": 6,
   "id": "596df932",
   "metadata": {},
   "outputs": [],
   "source": [
    "# Load the result into a Pandas DataFrame\n",
    "df = pd.read_sql_query(query, conn)"
   ]
  },
  {
   "cell_type": "code",
   "execution_count": 7,
   "id": "49676faa",
   "metadata": {},
   "outputs": [
    {
     "name": "stdout",
     "output_type": "stream",
     "text": [
      "Sales Summary:\n",
      "\n",
      "   product  total_quantity  revenue\n",
      "0   Apples              34     10.0\n",
      "1  Bananas              30      4.0\n",
      "2  Oranges              24      7.2\n"
     ]
    }
   ],
   "source": [
    "# Print the results \n",
    "print(\"Sales Summary:\\n\")\n",
    "print(df)"
   ]
  },
  {
   "cell_type": "code",
   "execution_count": 8,
   "id": "f45f23b4",
   "metadata": {},
   "outputs": [
    {
     "data": {
      "image/png": "[encoded data removed]",
      "text/plain": [
       "<Figure size 640x480 with 1 Axes>"
      ]
     },
     "metadata": {},
     "output_type": "display_data"
    }
   ],
   "source": [
    "# Plot Revenue per product using a bar chart\n",
    "df.plot(kind = 'bar', x = 'product', y = 'revenue', color = 'skyblue', legend = False)\n",
    "plt.title(\"Total Revenue by Product\")\n",
    "plt.xlabel(\"Product\")\n",
    "plt.ylabel(\"Revenue\")\n",
    "plt.tight_layout()\n",
    "plt.savefig(\"sales_chart.png\")       #Save the plot as an image\n",
    "plt.show()\n",
    "\n",
    "# Close the connection\n",
    "conn.close()"
   ]
  },
  {
   "cell_type": "code",
   "execution_count": null,
   "id": "8601aab3",
   "metadata": {},
   "outputs": [],
   "source": []
  }
 ],
 "metadata": {
  "kernelspec": {
   "display_name": "Python 3 (ipykernel)",
   "language": "python",
   "name": "python3"
  },
  "language_info": {
   "codemirror_mode": {
    "name": "ipython",
    "version": 3
   },
   "file_extension": ".py",
   "mimetype": "text/x-python",
   "name": "python",
   "nbconvert_exporter": "python",
   "pygments_lexer": "ipython3",
   "version": "3.10.9"
  }
 },
 "nbformat": 4,
 "nbformat_minor": 5
}
